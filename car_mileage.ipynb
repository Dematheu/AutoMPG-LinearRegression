{
 "cells": [
  {
   "cell_type": "markdown",
   "id": "84e46091-1c19-4583-90c8-8bff8a12c025",
   "metadata": {
    "tags": []
   },
   "source": [
    "# Predictions: Regression for Car Mileage"
   ]
  },
  {
   "cell_type": "markdown",
   "id": "068d9752-2839-4bc6-818a-477ccb8401eb",
   "metadata": {},
   "source": [
    "<p style='color: green; font-size: 18px;'>The main goal of this lab is to demonstrate my expertise in crafting a solution that harnesses a car dataset to train a regression model capable of predicting car mileage.</p>\n",
    "<hr>"
   ]
  },
  {
   "cell_type": "markdown",
   "id": "13fb49fb-618a-4dc6-b278-d4fe2b6c32ad",
   "metadata": {},
   "source": [
    "## Step 1: Load the libraries, specify the file path and load dataset."
   ]
  },
  {
   "cell_type": "code",
   "execution_count": null,
   "id": "f8c3124d-e5d3-4acf-9665-5f8697301f10",
   "metadata": {
    "tags": []
   },
   "outputs": [],
   "source": [
    "import os\n",
    "import pandas as pd\n",
    "from sklearn.linear_model import LinearRegression"
   ]
  },
  {
   "cell_type": "code",
   "execution_count": null,
   "id": "d8c96e89-af55-487f-82ef-e6f5ea8f77ff",
   "metadata": {
    "tags": []
   },
   "outputs": [],
   "source": [
    "current_directory = os.getcwd()\n",
    "parent_folder_path = os.path.abspath(os.path.join(current_directory, \".\"))\n",
    "data_folder_path = os.path.join(parent_folder_path, \"data\")\n",
    "file_path = os.path.join(data_folder_path, \"mpg.csv\")\n",
    "df = pd.read_csv(file_path)"
   ]
  },
  {
   "cell_type": "markdown",
   "id": "8b4614fc-e35f-4569-bde0-fca120fb0ffc",
   "metadata": {},
   "source": [
    "#### Now we check the number of rows and columns and some sample rows from the loaded dataset:"
   ]
  },
  {
   "cell_type": "code",
   "execution_count": null,
   "id": "5fbe3a67-4498-4d67-8c26-af05fba16532",
   "metadata": {
    "tags": []
   },
   "outputs": [],
   "source": [
    "df.shape"
   ]
  },
  {
   "cell_type": "code",
   "execution_count": null,
   "id": "30ce9959-dae5-49f4-aca0-3b8cbd71c9bd",
   "metadata": {
    "tags": []
   },
   "outputs": [],
   "source": [
    "df.sample(5)"
   ]
  },
  {
   "cell_type": "markdown",
   "id": "4e659ebe-9996-4841-95b4-241ab8191dad",
   "metadata": {},
   "source": [
    "#### Now I create a scatter plot to visualize relationships amongst chosen columns. Note: We can try as many as we want, but for the sake of model simplicity, I've opted to include only the selected ones."
   ]
  },
  {
   "cell_type": "code",
   "execution_count": null,
   "id": "3cc46fd3-227e-4852-8c54-3f391c268be0",
   "metadata": {
    "tags": []
   },
   "outputs": [],
   "source": [
    "df.plot.scatter(x = \"Horsepower\", y = \"MPG\")"
   ]
  },
  {
   "cell_type": "code",
   "execution_count": null,
   "id": "a7d88e6f-6cd4-4725-b69e-77b48b1dde17",
   "metadata": {
    "tags": []
   },
   "outputs": [],
   "source": [
    "df.plot.scatter(x = \"Weight\", y = \"MPG\")"
   ]
  },
  {
   "cell_type": "markdown",
   "id": "817ce729-7a10-417d-880f-c421b22c7584",
   "metadata": {},
   "source": [
    "## Step 2: Identify the target and data columns, Build and Train the Linear Regression Model."
   ]
  },
  {
   "cell_type": "code",
   "execution_count": null,
   "id": "511ae59a-d67f-4128-a298-60acc10a3dcc",
   "metadata": {
    "tags": []
   },
   "outputs": [],
   "source": [
    "target = df[\"MPG\"]\n",
    "features = df[[\"Horsepower\",\"Weight\"]]"
   ]
  },
  {
   "cell_type": "code",
   "execution_count": null,
   "id": "78b8c849-5565-4526-8d26-f422f887e8f7",
   "metadata": {
    "tags": []
   },
   "outputs": [],
   "source": [
    "lr = LinearRegression()"
   ]
  },
  {
   "cell_type": "code",
   "execution_count": null,
   "id": "e3d0e0ce-d6a2-4ade-8467-e2f70e615c72",
   "metadata": {
    "tags": []
   },
   "outputs": [],
   "source": [
    "lr.fit(features,target)"
   ]
  },
  {
   "cell_type": "markdown",
   "id": "6da28455-dcad-4443-9e61-895b08f58890",
   "metadata": {},
   "source": [
    "## Step 3: Evaluate and make predictions."
   ]
  },
  {
   "cell_type": "code",
   "execution_count": null,
   "id": "384d2d47-5af1-4228-a21a-224ce67e0af7",
   "metadata": {
    "tags": []
   },
   "outputs": [],
   "source": [
    "lr.score(features,target)"
   ]
  },
  {
   "cell_type": "markdown",
   "id": "dc79b37b-474c-47a1-9be8-07a3a2b9227d",
   "metadata": {},
   "source": [
    "#### Now I make some predictions for cars based on their characteristics."
   ]
  },
  {
   "cell_type": "code",
   "execution_count": null,
   "id": "43f335a3-e0da-4c37-bd72-b7dedff1cd68",
   "metadata": {
    "tags": []
   },
   "outputs": [],
   "source": [
    "car_1 = lr.predict([[110,1800]])\n",
    "print(f'{car_1} miles per gallon is the mileage of a car with HorsePower = 110 and Weight = 1800')"
   ]
  },
  {
   "cell_type": "code",
   "execution_count": null,
   "id": "2e88690c-2cd4-4ae5-a874-158a44ca9c98",
   "metadata": {
    "tags": []
   },
   "outputs": [],
   "source": [
    "car_2 = lr.predict([[80,1600]])\n",
    "print(f'{car_2} miles per gallon is the mileage of a car with HorsePower = 80 and Weight = 1600')"
   ]
  },
  {
   "cell_type": "markdown",
   "id": "af24dd84-28e6-4950-a2d4-5c31096a574b",
   "metadata": {},
   "source": [
    "#### You can try adding  more cars to test."
   ]
  },
  {
   "cell_type": "markdown",
   "id": "b4a5380e-8b90-431d-b47a-56fec142bff2",
   "metadata": {},
   "source": [
    "<hr>"
   ]
  }
 ],
 "metadata": {
  "kernelspec": {
   "display_name": "Python 3 (ipykernel)",
   "language": "python",
   "name": "python3"
  },
  "language_info": {
   "codemirror_mode": {
    "name": "ipython",
    "version": 3
   },
   "file_extension": ".py",
   "mimetype": "text/x-python",
   "name": "python",
   "nbconvert_exporter": "python",
   "pygments_lexer": "ipython3",
   "version": "3.10.9"
  }
 },
 "nbformat": 4,
 "nbformat_minor": 5
}
